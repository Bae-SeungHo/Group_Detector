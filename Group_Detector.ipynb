{
 "cells": [
  {
   "cell_type": "markdown",
   "id": "832db27b-3b10-4b40-8f73-8be861b597d5",
   "metadata": {},
   "source": [
    "![science](http://kiap.or.kr/inc/user/resource/image/sub/img_calendar01_0625.png)"
   ]
  },
  {
   "cell_type": "markdown",
   "id": "1d5fd8b9-15aa-4be3-af77-62c257f4be45",
   "metadata": {},
   "source": [
    "* ## 라이브러리 로드"
   ]
  },
  {
   "cell_type": "code",
   "execution_count": 43,
   "id": "2949417b-b62f-4e21-878e-483d1e12041b",
   "metadata": {},
   "outputs": [],
   "source": [
    "import numpy as np\n",
    "import cvlib as cv\n",
    "import matplotlib.pyplot as plt\n",
    "import cv2"
   ]
  },
  {
   "cell_type": "markdown",
   "id": "f38a6c25-fcbc-4580-9740-365c1b15bc27",
   "metadata": {},
   "source": [
    "* ##  5인 이상 그룹 탐지 클래스"
   ]
  },
  {
   "cell_type": "code",
   "execution_count": 49,
   "id": "998d8907-ac87-4fc5-b8e8-5a5be05044ca",
   "metadata": {},
   "outputs": [],
   "source": [
    "class Group_Check_App:\n",
    "    def __init__(self,PATH):\n",
    "        if PATH == 'cam': # 캠으로 탐지\n",
    "            self.cam = cv2.VideoCapture(0)\n",
    "            self.isVideo = True\n",
    "        elif (PATH.split('.')[-1] == 'mp4') or (PATH.split('.')[-1] == 'avi'): # 저장된 동영상으로 탐지\n",
    "            self.cam = cv2.VideoCapture(PATH)\n",
    "            self.isVideo = True\n",
    "        else:\n",
    "            self.frame = cv2.imread(PATH) # 이미지 파일로 탐지\n",
    "            self.isVideo = False\n",
    "        if self.isVideo and not self.cam.isOpened(): # 영상 로드 확인\n",
    "            print('Load Failed! Check File Path') \n",
    "        else:  \n",
    "            #윈도우 배치\n",
    "            cv2.namedWindow('frame')\n",
    "            cv2.namedWindow('after_frame')\n",
    "            cv2.moveWindow('frame',100,200)\n",
    "            cv2.moveWindow('after_frame',800,200)\n",
    "            \n",
    "            self.Detector(PATH) #탐지 메서드\n",
    "    \n",
    "    def Detector(self,PATH):\n",
    "        if self.isVideo: #동영상 탐지\n",
    "            print('press q to quit')\n",
    "            while self.cam.isOpened(): #동영상 프레임이 남은동안 반복\n",
    "                persons = []\n",
    "                status, frame = self.cam.read()\n",
    "                cv2.imshow('frame',frame)\n",
    "                rect,obj,conf = cv.detect_common_objects(frame) # 영상 속 개체 탐지\n",
    "                _ = [persons.append(rect[i]) for i in range(len(rect)) if obj[i] == 'person' and conf[i] >= 0.6] # 개체 중 '사람'이고 확률이 60% 이상인 개체만 추출\n",
    "                \n",
    "                for person in persons:\n",
    "                    l,t,r,b = person #좌표 로드\n",
    "                    if len(persons) >= 5: # person above 5\n",
    "                        cv2.rectangle(frame,(l,t),(r,b),(0,0,255),3) #초록색 네모로 사람의 Bounding Box 그림\n",
    "                    else: # person under 5    \n",
    "                        cv2.rectangle(frame,(l,t),(r,b),(0,255,0),3) #빨간색 네모로 사람의 Bounding Box 그림\n",
    "\n",
    "                cv2.putText(frame,'Person Counts : {}'.format(str(len(persons))),(10,30),cv2.FONT_HERSHEY_SIMPLEX,1,(0,255,0)) # 사람의 수 출력\n",
    "                cv2.imshow('after_frame',frame)\n",
    "\n",
    "                if cv2.waitKey(1) & 0xFF == ord('q'): \n",
    "                    self.cam.release()\n",
    "                    cv2.destroyAllWindows()\n",
    "                    break\n",
    "                \n",
    "        else: # 이미지 탐지\n",
    "            persons = []\n",
    "            self.frame = cv2.resize(self.frame,(640,480),interpolation=cv2.INTER_AREA)\n",
    "            cv2.imshow('frame',self.frame)\n",
    "            rect,obj,conf = cv.detect_common_objects(self.frame)\n",
    "            _ = [persons.append(rect[i]) for i in range(len(rect)) if obj[i] == 'person' and conf[i] >= 0.6]\n",
    "\n",
    "            for person in persons:\n",
    "                    l,t,r,b = person #좌표 로드\n",
    "                    if len(persons) >= 5: # person above 5\n",
    "                        cv2.rectangle(self.frame,(l,t),(r,b),(0,0,255),3) #초록색 네모로 사람의 Bounding Box 그림\n",
    "                    else: # person under 5    \n",
    "                        cv2.rectangle(self.frame,(l,t),(r,b),(0,255,0),3) #빨간색 네모로 사람의 Bounding Box 그림\n",
    "                        \n",
    "            cv2.putText(self.frame,'Person Counts : {}'.format(str(len(persons))),(10,30),cv2.FONT_HERSHEY_SIMPLEX,1,(0,255,0))\n",
    "            cv2.imshow('after_frame',self.frame)\n",
    "            cv2.waitKey(0)\n",
    "            cv2.destroyAllWindows() \n",
    "            cv2.imwrite('%s_result.jpg' % (PATH.split('.')[:-1][0]),self.frame)   "
   ]
  },
  {
   "cell_type": "markdown",
   "id": "e80bb7fe-0f3e-431b-ad83-2e1566e69957",
   "metadata": {},
   "source": [
    "* ##  활용"
   ]
  },
  {
   "cell_type": "code",
   "execution_count": null,
   "id": "8a7ee958-bb71-496b-8910-46074ea1ab8c",
   "metadata": {},
   "outputs": [],
   "source": [
    "print('\\nInput File Path (input cam to use Webcam)')\n",
    "PATH = input()\n",
    "Group_Check_App(PATH)"
   ]
  }
 ],
 "metadata": {
  "kernelspec": {
   "display_name": "Python 3",
   "language": "python",
   "name": "python3"
  },
  "language_info": {
   "codemirror_mode": {
    "name": "ipython",
    "version": 3
   },
   "file_extension": ".py",
   "mimetype": "text/x-python",
   "name": "python",
   "nbconvert_exporter": "python",
   "pygments_lexer": "ipython3",
   "version": "3.6.13"
  }
 },
 "nbformat": 4,
 "nbformat_minor": 5
}
